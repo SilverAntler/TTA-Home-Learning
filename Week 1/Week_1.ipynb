{
 "cells": [
  {
   "cell_type": "code",
   "execution_count": 7,
   "metadata": {},
   "outputs": [
    {
     "name": "stdout",
     "output_type": "stream",
     "text": [
      "hello William, you have picked 8\n",
      "bad luck, William you lost\n"
     ]
    }
   ],
   "source": [
    "import random\n",
    "random_number = random.randint(1,10)\n",
    "# print (random_number)\n",
    "user_input_name = input(\"what is your name?\")\n",
    "user_input_number = input(\"pick a number between 1 and 10\")\n",
    "print (\"hello\", user_input_name +\", you have picked\", user_input_number)\n",
    "if user_input_number == random_number: \n",
    "    print(\"Congratulations,\", user_input_name, \"you got it correct!\")\n",
    "else: \n",
    "    print(\"bad luck,\", user_input_name, \"you lost\")\n"
   ]
  },
  {
   "cell_type": "code",
   "execution_count": 2,
   "metadata": {},
   "outputs": [
    {
     "name": "stdout",
     "output_type": "stream",
     "text": [
      "hello William , you have picked 37\n",
      "why did the cat cross the road? I don't know.\n"
     ]
    }
   ],
   "source": [
    "# import random\n",
    "# random_number = random.randint(1,100)\n",
    "# print (random_number)\n",
    "user_input_name = input(\"what is your name?\")\n",
    "user_input_number = input(\"pick a number between 1 and 100\")\n",
    "into_int = int(user_input_number)\n",
    "print (\"hello\", user_input_name,\", you have picked\", user_input_number)\n",
    "if into_int <= 30:\n",
    "    print(\"what's brown and sticky? A STICK!\")\n",
    "elif into_int <=60:\n",
    "    print (\"why did the cat cross the road? I don't know.\")\n",
    "else: \n",
    "    print(\"what happened to the cannibal who as late to the buffet? He was given the cold shoulder\")"
   ]
  },
  {
   "cell_type": "code",
   "execution_count": 6,
   "metadata": {},
   "outputs": [
    {
     "name": "stdout",
     "output_type": "stream",
     "text": [
      "your favourite meal is a followed by b, with c and a glass of d to finish\n"
     ]
    }
   ],
   "source": [
    "user_input_starter = input(\"what is your favourite starter?\")\n",
    "user_input_main = input(\"now, what's your favourite main?\")\n",
    "user_input_dessert = input(\"ok next, tell me your favourite dessert?\")\n",
    "user_input_drink = input(\"and to finish, your favourite drink?\")\n",
    "print (\"your favourite meal is\", user_input_starter, \"followed by\", user_input_main +\", with\", user_input_dessert, \"and a glass of\", user_input_drink, \"to finish\")"
   ]
  },
  {
   "cell_type": "code",
   "execution_count": 40,
   "metadata": {},
   "outputs": [
    {
     "name": "stdout",
     "output_type": "stream",
     "text": [
      "the value of the bike is £ 2000\n",
      "the value of the bike is £ 1800.0\n",
      "the value of the bike is £ 1620.0\n",
      "the value of the bike is £ 1458.0\n",
      "the value of the bike is £ 1312.2\n",
      "the value of the bike is £ 1180.98\n",
      "the value of the bike is £ 1062.88\n"
     ]
    }
   ],
   "source": [
    "bike_value = 2000\n",
    "depreciation = 0.9\n",
    "\n",
    "i = 2000\n",
    "while i >= 1000:\n",
    "    print (\"the value of the bike is £\", i)\n",
    "    # i = i*0.9\n",
    "    i = round (i*0.9,2)\n"
   ]
  },
  {
   "cell_type": "code",
   "execution_count": 18,
   "metadata": {},
   "outputs": [
    {
     "name": "stdout",
     "output_type": "stream",
     "text": [
      "hello Luke, you picked 10 and 6\n",
      "1000000 whoa, that's a big one.\n"
     ]
    }
   ],
   "source": [
    "user_input_name = input(\"what is your name?\")\n",
    "\n",
    "user_input_n1 = input (\"please pick your first number\")\n",
    "user_input_n2 = input (\"please pick your second number\")\n",
    "print (\"hello\", user_input_name +\",\", \"you picked\", user_input_n1, \"and\", user_input_n2)\n",
    "# use + rather than , to add punctuation adjacent to a user_input\n",
    "user_input_calc = input(\"Enter 'A' if you want to add the numbers, 'B' if you want to subtract the numbers. Enter 'C' if you want to multiply, 'D' if you want to divide, or 'E' if you are feeling bold and want them exponential.\")\n",
    "# press Alt Z to wrap text\n",
    "# REMEMBER got to change their input from string to integer. \n",
    "into_int_n1 = int(user_input_n1)\n",
    "into_int_n2 = int(user_input_n2)\n",
    "\n",
    "\n",
    "if user_input_calc == \"A\":\n",
    "    print(into_int_n1 + into_int_n2)\n",
    "elif user_input_calc == \"B\":\n",
    "    print(into_int_n1 - into_int_n2)\n",
    "elif user_input_calc == \"C\":\n",
    "    print(into_int_n1 * into_int_n2)\n",
    "elif user_input_calc == \"D\":\n",
    "    print(into_int_n1 / into_int_n2)\n",
    "elif user_input_calc == \"E\":\n",
    "    print(into_int_n1 ** into_int_n2, \"whoa, that's a big one.\")\n",
    "# is it ok to use all 'if-elifs' like this, or should the last one be an 'else'?\n"
   ]
  }
 ],
 "metadata": {
  "interpreter": {
   "hash": "bf7ac6bae44105db42e94eb0f3da75baf3182ac1becc53bb4ba8c5f46f80b9b1"
  },
  "kernelspec": {
   "display_name": "Python 3.10.2 64-bit",
   "language": "python",
   "name": "python3"
  },
  "language_info": {
   "codemirror_mode": {
    "name": "ipython",
    "version": 3
   },
   "file_extension": ".py",
   "mimetype": "text/x-python",
   "name": "python",
   "nbconvert_exporter": "python",
   "pygments_lexer": "ipython3",
   "version": "3.10.2"
  },
  "orig_nbformat": 4
 },
 "nbformat": 4,
 "nbformat_minor": 2
}
