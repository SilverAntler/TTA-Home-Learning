{
 "cells": [
  {
   "cell_type": "code",
   "execution_count": null,
   "metadata": {},
   "outputs": [],
   "source": [
    "%pip install numpy"
   ]
  },
  {
   "cell_type": "code",
   "execution_count": 2,
   "metadata": {},
   "outputs": [],
   "source": [
    "import numpy as np"
   ]
  },
  {
   "cell_type": "code",
   "execution_count": 8,
   "metadata": {},
   "outputs": [
    {
     "name": "stdout",
     "output_type": "stream",
     "text": [
      "5\n",
      "12\n"
     ]
    }
   ],
   "source": [
    "list1 = [1, 2, 3, 4]\n",
    "list2 = [5, 6, 7, 8]\n",
    "\n",
    "#print ((list1*list2)) # this isn't possible. Have to go through each individual index (lengthy process! hence np)\n",
    "print (list1[0]*list2[0])\n",
    "print (list1[3]+list2[3])"
   ]
  },
  {
   "cell_type": "code",
   "execution_count": 15,
   "metadata": {},
   "outputs": [
    {
     "name": "stdout",
     "output_type": "stream",
     "text": [
      "[1, 2, 3, 4, 5, 6, 7, 8, 9]\n",
      "[1 2 3 4 5 6 7 8 9]\n"
     ]
    }
   ],
   "source": [
    "#Task 1: Create a 1d array of numbers from 1:9\n",
    "list_py = [1, 2, 3, 4, 5, 6, 7, 8, 9] #to use arrays in python you have to import a library like numpy. This is showing a list. \n",
    "print(list_py)\n",
    "\n",
    "list1 = np.array([1, 2, 3, 4, 5, 6, 7, 8, 9])\n",
    "print(list1)"
   ]
  },
  {
   "cell_type": "code",
   "execution_count": 49,
   "metadata": {},
   "outputs": [
    {
     "name": "stdout",
     "output_type": "stream",
     "text": [
      "[1. 1. 1. 1. 1. 1. 1. 1. 1.]\n",
      "[[1. 1. 1.]\n",
      " [1. 1. 1.]\n",
      " [1. 1. 1.]]\n",
      "[[1 1 1]\n",
      " [1 1 1]\n",
      " [1 1 1]]\n",
      "[[1. 1. 1.]\n",
      " [1. 1. 1.]\n",
      " [1. 1. 1.]]\n",
      "[[ True  True  True]\n",
      " [ True  True  True]\n",
      " [ True  True  True]]\n"
     ]
    }
   ],
   "source": [
    "#Task 2: Create a 3x3 numpy array of all Boolean value trues\n",
    "#step 1 - creating 3x3 array\n",
    "arr2 = np.ones(9)\n",
    "print(arr2) #this prints them all in one row. Next need to reshape them\n",
    "new_arr2 = arr2.reshape(3,3)\n",
    "print(new_arr2)\n",
    "\n",
    "#or, create it from scratch as a 3x3\n",
    "arr_3x3 = np.array([[1, 1, 1], [1, 1, 1], [1, 1, 1]])\n",
    "print (arr_3x3)\n",
    "\n",
    "# or, like this: \n",
    "arr4 = np.ones([3,3])\n",
    "print(arr4)\n",
    "\n",
    "# Step 2, get it to show as Boolean value true. \n",
    "arr5 = np.ones([3,3], dtype=bool) #this puts it in data type Boolean. \n",
    "print(arr5)\n"
   ]
  },
  {
   "cell_type": "code",
   "execution_count": 62,
   "metadata": {},
   "outputs": [
    {
     "name": "stdout",
     "output_type": "stream",
     "text": [
      "[ 1  2  3  4  5  6  7  8  9 10]\n",
      "[1, 3, 5, 7, 9]\n"
     ]
    }
   ],
   "source": [
    "# Task 3: Extract all odd numbers from an array 1:10\n",
    "task3 = np.array([1, 2, 3, 4, 5, 6, 7, 8, 9, 10])\n",
    "print (task3)\n",
    "# for x in task3:\n",
    "#         if x%2 != 0:\n",
    "#             print (x) #this gives it with each integer on a new line. \n",
    "\n",
    "\n",
    "new_list3 = [x for x in task3 if x%2 !=0]\n",
    "print(new_list3) #this gives it as a new list. \n"
   ]
  },
  {
   "cell_type": "code",
   "execution_count": 87,
   "metadata": {},
   "outputs": [
    {
     "name": "stdout",
     "output_type": "stream",
     "text": [
      "[-1  2 -1  4 -1  6 -1  8 -1 10]\n"
     ]
    }
   ],
   "source": [
    "#Task 4: Replace all odd numbers in an array of 1-10 with the value -1\n",
    "task4 = np.array([1, 2, 3, 4, 5, 6, 7, 8, 9, 10])\n",
    "\n",
    "for x in range(len(task4)):\n",
    "    if x%2 != 1:\n",
    "        task4[x] = -1\n",
    "print(task4)\n",
    "\n",
    "# wherever there is x/2 with a remainder of 1, assign x the value of -1. \n",
    "#Print list."
   ]
  },
  {
   "cell_type": "code",
   "execution_count": 88,
   "metadata": {},
   "outputs": [
    {
     "name": "stdout",
     "output_type": "stream",
     "text": [
      "[1. 1. 1. 1.]\n",
      "[[1. 1.]\n",
      " [1. 1.]]\n"
     ]
    }
   ],
   "source": [
    "#Task 5: Convert a 1D array to a 2D array with 2rows\n",
    "task5 = np.ones (4)\n",
    "print(task5)\n",
    "new_task5 = task5.reshape(2, 2)\n",
    "print(new_task5)"
   ]
  },
  {
   "cell_type": "code",
   "execution_count": 100,
   "metadata": {},
   "outputs": [
    {
     "name": "stdout",
     "output_type": "stream",
     "text": [
      "[ 6  8 10 12]\n",
      "70\n",
      "70\n"
     ]
    }
   ],
   "source": [
    "# Task 6: Create two arrays a and b, stack these two arrays vertically, use the np.dot and np.sum to calculatetotals\n",
    "arrA = np.array([1, 2, 3, 4])\n",
    "arrB = np.array([5, 6, 7, 8,])\n",
    "\n",
    "arrC = (arrA+ arrB) #this gives the sum of each column as a new list. \n",
    "print (arrC)\n",
    "\n",
    "arrC2 = np.dot(arrA, arrB) #this gives the sum of values in the same positions multiplied, then added up. e.g. (1*5)+(2*6)+(3*7)+(4*8)=70.\n",
    "print(arrC2)\n",
    "\n",
    "sum = np.sum(arrC2)\n",
    "print(sum) #this is giving the same result as above, is that because it's 1d array? Yes. need to reshape them into a matrix, see below."
   ]
  },
  {
   "cell_type": "code",
   "execution_count": 111,
   "metadata": {},
   "outputs": [
    {
     "name": "stdout",
     "output_type": "stream",
     "text": [
      "[[1 2]\n",
      " [3 4]]\n",
      "[[5 6]\n",
      " [7 8]]\n",
      "Below here the .dot and .sum begins\n",
      "[[19 22]\n",
      " [43 50]]\n",
      "134\n"
     ]
    }
   ],
   "source": [
    "#Task 6 re-run\n",
    "\n",
    "arrD = np.array([1, 2, 3, 4]).reshape (2,2)\n",
    "arrE = np.array([5, 6, 7, 8]).reshape (2,2)\n",
    "\n",
    "print (arrD)\n",
    "print (arrE)\n",
    "print (\"Below here the .dot and .sum begins\")\n",
    "\n",
    "arrF = np.dot(arrD, arrE) #[R2*C1, R1*C2],[R2*C1, R2*C2]\n",
    "print(arrF)\n",
    "\n",
    "sum = np.sum(arrF)\n",
    "print(sum)\n"
   ]
  },
  {
   "cell_type": "code",
   "execution_count": 17,
   "metadata": {},
   "outputs": [
    {
     "name": "stdout",
     "output_type": "stream",
     "text": [
      "[2 2 2 3 3 3 4 4 4 2 3 4 2 3 4 2 3 4]\n",
      "Subtract : [1 1 1 2 2 2 3 3 3 1 2 3 1 2 3 1 2 3]\n"
     ]
    }
   ],
   "source": [
    "#Extension Task 1\n",
    "# create the following : [1, 1, 1, 2, 2, 2, 3, 3, 3, 1, 2, 3, 1, 2, 3, 1, 2, 3,] This must be using a math function?\n",
    "\n",
    "a = np.array([2, 2, 2, 3, 3, 3, 4, 4, 4, 2, 3, 4, 2, 3, 4, 2, 3, 4])\n",
    "print(a)\n",
    "print(\"Subtract :\", a -1) #note - don't put a comma between the 'a' and the math funciton\n"
   ]
  }
 ],
 "metadata": {
  "interpreter": {
   "hash": "bf7ac6bae44105db42e94eb0f3da75baf3182ac1becc53bb4ba8c5f46f80b9b1"
  },
  "kernelspec": {
   "display_name": "Python 3.10.2 64-bit",
   "language": "python",
   "name": "python3"
  },
  "language_info": {
   "codemirror_mode": {
    "name": "ipython",
    "version": 3
   },
   "file_extension": ".py",
   "mimetype": "text/x-python",
   "name": "python",
   "nbconvert_exporter": "python",
   "pygments_lexer": "ipython3",
   "version": "3.10.2"
  },
  "orig_nbformat": 4
 },
 "nbformat": 4,
 "nbformat_minor": 2
}
