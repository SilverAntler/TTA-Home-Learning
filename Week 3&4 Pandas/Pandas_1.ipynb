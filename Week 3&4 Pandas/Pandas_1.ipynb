{
 "cells": [
  {
   "cell_type": "code",
   "execution_count": null,
   "metadata": {},
   "outputs": [],
   "source": [
    "!pip --version "
   ]
  },
  {
   "cell_type": "code",
   "execution_count": null,
   "metadata": {},
   "outputs": [],
   "source": [
    "!pip install pandas"
   ]
  },
  {
   "cell_type": "code",
   "execution_count": null,
   "metadata": {},
   "outputs": [],
   "source": [
    "import pandas as pd"
   ]
  },
  {
   "cell_type": "code",
   "execution_count": null,
   "metadata": {},
   "outputs": [],
   "source": [
    "%pip install pandas"
   ]
  },
  {
   "cell_type": "code",
   "execution_count": 4,
   "metadata": {},
   "outputs": [],
   "source": [
    "import pandas as pd"
   ]
  },
  {
   "cell_type": "code",
   "execution_count": 18,
   "metadata": {},
   "outputs": [
    {
     "name": "stdout",
     "output_type": "stream",
     "text": [
      "   Destinations  Feedback  Star Rating  All-inclusive Most Visited City\n",
      "0            UK         7            5             24            London\n",
      "1         China         4            3            312          Shanghai\n",
      "2         Italy         5            4             78              Rome\n",
      "3        France         2            2             66             Paris\n",
      "4     Singapore         3            5             10         Singapore\n",
      "5   New Zealand         8            3             20        Wellington\n",
      "6     Sri Lanka         6            2             35           Colombo\n",
      "7      Cambodia        10            1            102        Phnom Penh\n",
      "8      Thailand         8            2            400           Bangkok\n",
      "9     Indonesia         2            2             39              Bali\n",
      "10  Philippines         4            3             87           Manilla\n",
      "11      America         4            3            720          New York\n",
      "12         Doha         8            5            200              Doha\n",
      "13      Vietnam         9            4            105       Ho Chi Minh\n",
      "14      Myanmar         7            3             14            Yangon\n",
      "There are this many rows, columns (15, 5)\n"
     ]
    }
   ],
   "source": [
    "#Task 1\n",
    "#import the csv file\n",
    "destinations = pd.read_csv(\"Pandas_Destinations.csv\")\n",
    "print (destinations)\n",
    "\n",
    "#destinations.shape #15 rows, 5 columns\n",
    "\n",
    "print(\"There are this many rows, columns\", destinations.shape)"
   ]
  },
  {
   "cell_type": "code",
   "execution_count": 26,
   "metadata": {},
   "outputs": [
    {
     "name": "stdout",
     "output_type": "stream",
     "text": [
      "  Destinations  Feedback  Star Rating  All-inclusive Most Visited City\n",
      "3       France         2            2             66             Paris\n",
      "4    Singapore         3            5             10         Singapore\n",
      "5  New Zealand         8            3             20        Wellington\n",
      "6    Sri Lanka         6            2             35           Colombo\n",
      "7     Cambodia        10            1            102        Phnom Penh\n",
      "8     Thailand         8            2            400           Bangkok\n"
     ]
    }
   ],
   "source": [
    "#Task 2 Print row 3-8 ( using iloc/loc).\n",
    "# print(destinations[3:9]) # this does it without iloc / loc\n",
    "\n",
    "print(destinations.iloc[3:9])"
   ]
  },
  {
   "cell_type": "code",
   "execution_count": 35,
   "metadata": {},
   "outputs": [
    {
     "name": "stdout",
     "output_type": "stream",
     "text": [
      "147.47\n"
     ]
    }
   ],
   "source": [
    "#Task 3.Find the mean number of all-inclusive hotels across all destinations.\n",
    "print(destinations[\"All-inclusive\"].mean().round(2)) \n",
    "#rounded to 2dp. "
   ]
  },
  {
   "cell_type": "code",
   "execution_count": 49,
   "metadata": {},
   "outputs": [
    {
     "name": "stdout",
     "output_type": "stream",
     "text": [
      "1\n"
     ]
    }
   ],
   "source": [
    "#Task 4.Find the lowest scoring destination.\n",
    "#print(destinations.max()) # this give the max value for ALL columns, of any rows\n",
    "#print(destinations.max(axis=1)) # this gives the max value for ALL rows, of any columns\n",
    "print(destinations[\"Star Rating\"].min()) # REMEMBER to use to square brackets to call a column. "
   ]
  },
  {
   "cell_type": "code",
   "execution_count": 50,
   "metadata": {},
   "outputs": [
    {
     "name": "stdout",
     "output_type": "stream",
     "text": [
      "5\n"
     ]
    }
   ],
   "source": [
    "#Task 5.Find the highest scoring destination.\n",
    "print(destinations[\"Star Rating\"].max())"
   ]
  },
  {
   "cell_type": "code",
   "execution_count": null,
   "metadata": {},
   "outputs": [],
   "source": [
    "#Task 6.Find all the destinations where there are more than 9 all-inclusive hotels. \n",
    "#print(destinations[\"All-inclusive\"] >=9)\n",
    "\n",
    "my_filter = destinations[\"All-inclusive\"] >200 #this will give a boolean valye for each row for All-incusive column. \n",
    "if my_filter == True:\n",
    "    print(my_filter)\n",
    "#..... getting stuck on this one. \"the truth value of a series is ambigous\""
   ]
  },
  {
   "cell_type": "code",
   "execution_count": 75,
   "metadata": {},
   "outputs": [],
   "source": [
    "#Task 7.Filter the data by score above 8.  \n",
    "score_filter = destinations[\"Feedback\"]>8\n",
    "print(score_filter)\n",
    "\n",
    "#related to task 6 - to return to later. "
   ]
  },
  {
   "cell_type": "code",
   "execution_count": null,
   "metadata": {},
   "outputs": [],
   "source": [
    "#Task 8.Filter the data score below 2 ( I need to know if these destinations should be removed or there is a problem) "
   ]
  }
 ],
 "metadata": {
  "interpreter": {
   "hash": "bf7ac6bae44105db42e94eb0f3da75baf3182ac1becc53bb4ba8c5f46f80b9b1"
  },
  "kernelspec": {
   "display_name": "Python 3.10.2 64-bit",
   "language": "python",
   "name": "python3"
  },
  "language_info": {
   "codemirror_mode": {
    "name": "ipython",
    "version": 3
   },
   "file_extension": ".py",
   "mimetype": "text/x-python",
   "name": "python",
   "nbconvert_exporter": "python",
   "pygments_lexer": "ipython3",
   "version": "3.10.2"
  },
  "orig_nbformat": 4
 },
 "nbformat": 4,
 "nbformat_minor": 2
}
