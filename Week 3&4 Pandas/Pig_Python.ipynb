{
 "cells": [
  {
   "cell_type": "markdown",
   "metadata": {},
   "source": [
    "To change user input by moving the first letter to the end of the word, and adding the suffix 'ay'"
   ]
  },
  {
   "cell_type": "code",
   "execution_count": 3,
   "metadata": {},
   "outputs": [
    {
     "name": "stdout",
     "output_type": "stream",
     "text": [
      "school\n",
      "choolsay\n"
     ]
    }
   ],
   "source": [
    "pyg = \"ay\"\n",
    "\n",
    "original = input(\"Pick any word\")\n",
    "\n",
    "if len(original) >0 and original.isalpha(): #ensure user entered something, and it was only letters. \n",
    "    print (original)\n",
    "    word = original.lower() #make it lowercase to avoid pesky capials.\n",
    "    first_letter = word[0] #identify the first letter\n",
    "    new_word = word[1:len(word)] + first_letter + pyg #concatenates them together (old word - first letter, first letter to end, ay)\n",
    "    print (new_word)\n",
    "else: \n",
    "    print (\"Enter a new word, only letters\")"
   ]
  }
 ],
 "metadata": {
  "interpreter": {
   "hash": "bf7ac6bae44105db42e94eb0f3da75baf3182ac1becc53bb4ba8c5f46f80b9b1"
  },
  "kernelspec": {
   "display_name": "Python 3.10.2 64-bit",
   "language": "python",
   "name": "python3"
  },
  "language_info": {
   "codemirror_mode": {
    "name": "ipython",
    "version": 3
   },
   "file_extension": ".py",
   "mimetype": "text/x-python",
   "name": "python",
   "nbconvert_exporter": "python",
   "pygments_lexer": "ipython3",
   "version": "3.10.2"
  },
  "orig_nbformat": 4
 },
 "nbformat": 4,
 "nbformat_minor": 2
}
