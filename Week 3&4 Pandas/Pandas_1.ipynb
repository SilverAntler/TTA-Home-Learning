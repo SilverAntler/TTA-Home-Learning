{
 "cells": [
  {
   "cell_type": "code",
   "execution_count": null,
   "metadata": {},
   "outputs": [],
   "source": [
    "!pip --version "
   ]
  },
  {
   "cell_type": "code",
   "execution_count": null,
   "metadata": {},
   "outputs": [],
   "source": [
    "!pip install pandas"
   ]
  },
  {
   "cell_type": "code",
   "execution_count": null,
   "metadata": {},
   "outputs": [],
   "source": [
    "import pandas as pd"
   ]
  },
  {
   "cell_type": "code",
   "execution_count": null,
   "metadata": {},
   "outputs": [],
   "source": [
    "%pip install pandas"
   ]
  },
  {
   "cell_type": "code",
   "execution_count": 3,
   "metadata": {},
   "outputs": [],
   "source": [
    "import pandas as pd"
   ]
  },
  {
   "cell_type": "code",
   "execution_count": 4,
   "metadata": {},
   "outputs": [
    {
     "name": "stdout",
     "output_type": "stream",
     "text": [
      "   Destinations  Feedback  Star Rating  All-inclusive Most Visited City\n",
      "0            UK         7            5             24            London\n",
      "1         China         4            3            312          Shanghai\n",
      "2         Italy         5            4             78              Rome\n",
      "3        France         2            2             66             Paris\n",
      "4     Singapore         3            5             10         Singapore\n",
      "5   New Zealand         8            3             20        Wellington\n",
      "6     Sri Lanka         6            2             35           Colombo\n",
      "7      Cambodia        10            1            102        Phnom Penh\n",
      "8      Thailand         8            2            400           Bangkok\n",
      "9     Indonesia         2            2             39              Bali\n",
      "10  Philippines         4            3             87           Manilla\n",
      "11      America         4            3            720          New York\n",
      "12         Doha         8            5            200              Doha\n",
      "13      Vietnam         9            4            105       Ho Chi Minh\n",
      "14      Myanmar         7            3             14            Yangon\n",
      "There are this many rows, columns (15, 5)\n"
     ]
    }
   ],
   "source": [
    "#Task 1\n",
    "#import the csv file\n",
    "destinations = pd.read_csv(\"Pandas_Destinations.csv\")\n",
    "print (destinations)\n",
    "\n",
    "#destinations.shape #15 rows, 5 columns\n",
    "\n",
    "print(\"There are this many rows, columns\", destinations.shape)"
   ]
  },
  {
   "cell_type": "code",
   "execution_count": 5,
   "metadata": {},
   "outputs": [
    {
     "name": "stdout",
     "output_type": "stream",
     "text": [
      "  Destinations  Feedback  Star Rating  All-inclusive Most Visited City\n",
      "3       France         2            2             66             Paris\n",
      "4    Singapore         3            5             10         Singapore\n",
      "5  New Zealand         8            3             20        Wellington\n",
      "6    Sri Lanka         6            2             35           Colombo\n",
      "7     Cambodia        10            1            102        Phnom Penh\n",
      "8     Thailand         8            2            400           Bangkok\n"
     ]
    }
   ],
   "source": [
    "#Task 2 Print row 3-8 ( using iloc/loc).\n",
    "# print(destinations[3:9]) # this does it without iloc / loc\n",
    "\n",
    "print(destinations.iloc[3:9])"
   ]
  },
  {
   "cell_type": "code",
   "execution_count": 6,
   "metadata": {},
   "outputs": [
    {
     "name": "stdout",
     "output_type": "stream",
     "text": [
      "147.47\n"
     ]
    }
   ],
   "source": [
    "#Task 3.Find the mean number of all-inclusive hotels across all destinations.\n",
    "print(destinations[\"All-inclusive\"].mean().round(2)) \n",
    "# rounded to 2dp. "
   ]
  },
  {
   "cell_type": "code",
   "execution_count": 23,
   "metadata": {},
   "outputs": [
    {
     "name": "stdout",
     "output_type": "stream",
     "text": [
      "2\n",
      "2\n"
     ]
    }
   ],
   "source": [
    "#Task 4.Find the lowest scoring destination.\n",
    "#print(destinations.max()) # this give the max value for ALL columns, of any rows\n",
    "#print(destinations.max(axis=1)) # this gives the max value for ALL rows, of any columns\n",
    "print(destinations[\"Feedback\"].min()) # REMEMBER to use to square brackets to call a column. \n",
    "\n",
    "#This gives the lowest score, BUT doesn't show all the information. \n",
    "\n",
    "#hmmmmmm ... do I need to reorder and then print by index? "
   ]
  },
  {
   "cell_type": "code",
   "execution_count": 8,
   "metadata": {},
   "outputs": [
    {
     "name": "stdout",
     "output_type": "stream",
     "text": [
      "10\n"
     ]
    }
   ],
   "source": [
    "#Task 5.Find the highest scoring destination.\n",
    "print(destinations[\"Feedback\"].max())"
   ]
  },
  {
   "cell_type": "code",
   "execution_count": 47,
   "metadata": {},
   "outputs": [
    {
     "name": "stdout",
     "output_type": "stream",
     "text": [
      "0     False\n",
      "1      True\n",
      "2     False\n",
      "3     False\n",
      "4     False\n",
      "5     False\n",
      "6     False\n",
      "7     False\n",
      "8      True\n",
      "9     False\n",
      "10    False\n",
      "11     True\n",
      "12    False\n",
      "13    False\n",
      "14    False\n",
      "Name: All-inclusive, dtype: bool\n",
      "True\n",
      "True\n",
      "True\n"
     ]
    }
   ],
   "source": [
    "#Task 6.Find all the destinations where there are more than 200 (changed for my dataset) all-inclusive hotels. \n",
    "#print(destinations[\"All-inclusive\"] >=9)\n",
    "\n",
    "my_filter = destinations[\"All-inclusive\"] >200 #this will give a boolean value for each row for All-incusive column. \n",
    "print(my_filter)\n",
    "\n",
    "for x in my_filter: \n",
    "    if x==True:\n",
    "        print (x) # this only prints the 'true'x3. It doesn't print the rows of data. "
   ]
  },
  {
   "cell_type": "code",
   "execution_count": 20,
   "metadata": {},
   "outputs": [
    {
     "data": {
      "text/html": [
       "<div>\n",
       "<style scoped>\n",
       "    .dataframe tbody tr th:only-of-type {\n",
       "        vertical-align: middle;\n",
       "    }\n",
       "\n",
       "    .dataframe tbody tr th {\n",
       "        vertical-align: top;\n",
       "    }\n",
       "\n",
       "    .dataframe thead th {\n",
       "        text-align: right;\n",
       "    }\n",
       "</style>\n",
       "<table border=\"1\" class=\"dataframe\">\n",
       "  <thead>\n",
       "    <tr style=\"text-align: right;\">\n",
       "      <th></th>\n",
       "      <th>Destinations</th>\n",
       "      <th>Feedback</th>\n",
       "      <th>Star Rating</th>\n",
       "      <th>All-inclusive</th>\n",
       "      <th>Most Visited City</th>\n",
       "    </tr>\n",
       "  </thead>\n",
       "  <tbody>\n",
       "    <tr>\n",
       "      <th>1</th>\n",
       "      <td>China</td>\n",
       "      <td>4</td>\n",
       "      <td>3</td>\n",
       "      <td>312</td>\n",
       "      <td>Shanghai</td>\n",
       "    </tr>\n",
       "    <tr>\n",
       "      <th>8</th>\n",
       "      <td>Thailand</td>\n",
       "      <td>8</td>\n",
       "      <td>2</td>\n",
       "      <td>400</td>\n",
       "      <td>Bangkok</td>\n",
       "    </tr>\n",
       "    <tr>\n",
       "      <th>11</th>\n",
       "      <td>America</td>\n",
       "      <td>4</td>\n",
       "      <td>3</td>\n",
       "      <td>720</td>\n",
       "      <td>New York</td>\n",
       "    </tr>\n",
       "  </tbody>\n",
       "</table>\n",
       "</div>"
      ],
      "text/plain": [
       "   Destinations  Feedback  Star Rating  All-inclusive Most Visited City\n",
       "1         China         4            3            312          Shanghai\n",
       "8      Thailand         8            2            400           Bangkok\n",
       "11      America         4            3            720          New York"
      ]
     },
     "execution_count": 20,
     "metadata": {},
     "output_type": "execute_result"
    }
   ],
   "source": [
    "more_than_200 = destinations[my_filter]\n",
    "more_than_200.head()  #This will print the rows that meet the filter more than 200. Note - would need to adjust head() if more than 5 results matched. "
   ]
  },
  {
   "cell_type": "code",
   "execution_count": 26,
   "metadata": {},
   "outputs": [
    {
     "data": {
      "text/html": [
       "<div>\n",
       "<style scoped>\n",
       "    .dataframe tbody tr th:only-of-type {\n",
       "        vertical-align: middle;\n",
       "    }\n",
       "\n",
       "    .dataframe tbody tr th {\n",
       "        vertical-align: top;\n",
       "    }\n",
       "\n",
       "    .dataframe thead th {\n",
       "        text-align: right;\n",
       "    }\n",
       "</style>\n",
       "<table border=\"1\" class=\"dataframe\">\n",
       "  <thead>\n",
       "    <tr style=\"text-align: right;\">\n",
       "      <th></th>\n",
       "      <th>Destinations</th>\n",
       "      <th>Feedback</th>\n",
       "      <th>Star Rating</th>\n",
       "      <th>All-inclusive</th>\n",
       "      <th>Most Visited City</th>\n",
       "    </tr>\n",
       "  </thead>\n",
       "  <tbody>\n",
       "    <tr>\n",
       "      <th>7</th>\n",
       "      <td>Cambodia</td>\n",
       "      <td>10</td>\n",
       "      <td>1</td>\n",
       "      <td>102</td>\n",
       "      <td>Phnom Penh</td>\n",
       "    </tr>\n",
       "    <tr>\n",
       "      <th>13</th>\n",
       "      <td>Vietnam</td>\n",
       "      <td>9</td>\n",
       "      <td>4</td>\n",
       "      <td>105</td>\n",
       "      <td>Ho Chi Minh</td>\n",
       "    </tr>\n",
       "  </tbody>\n",
       "</table>\n",
       "</div>"
      ],
      "text/plain": [
       "   Destinations  Feedback  Star Rating  All-inclusive Most Visited City\n",
       "7      Cambodia        10            1            102        Phnom Penh\n",
       "13      Vietnam         9            4            105       Ho Chi Minh"
      ]
     },
     "execution_count": 26,
     "metadata": {},
     "output_type": "execute_result"
    }
   ],
   "source": [
    "#Task 7.Filter the data by score above 8.  \n",
    "score_filter = destinations[\"Feedback\"]>8\n",
    "above_8 = destinations[score_filter]\n",
    "above_8.head()"
   ]
  },
  {
   "cell_type": "code",
   "execution_count": 29,
   "metadata": {},
   "outputs": [
    {
     "data": {
      "text/html": [
       "<div>\n",
       "<style scoped>\n",
       "    .dataframe tbody tr th:only-of-type {\n",
       "        vertical-align: middle;\n",
       "    }\n",
       "\n",
       "    .dataframe tbody tr th {\n",
       "        vertical-align: top;\n",
       "    }\n",
       "\n",
       "    .dataframe thead th {\n",
       "        text-align: right;\n",
       "    }\n",
       "</style>\n",
       "<table border=\"1\" class=\"dataframe\">\n",
       "  <thead>\n",
       "    <tr style=\"text-align: right;\">\n",
       "      <th></th>\n",
       "      <th>Destinations</th>\n",
       "      <th>Feedback</th>\n",
       "      <th>Star Rating</th>\n",
       "      <th>All-inclusive</th>\n",
       "      <th>Most Visited City</th>\n",
       "    </tr>\n",
       "  </thead>\n",
       "  <tbody>\n",
       "    <tr>\n",
       "      <th>3</th>\n",
       "      <td>France</td>\n",
       "      <td>2</td>\n",
       "      <td>2</td>\n",
       "      <td>66</td>\n",
       "      <td>Paris</td>\n",
       "    </tr>\n",
       "    <tr>\n",
       "      <th>9</th>\n",
       "      <td>Indonesia</td>\n",
       "      <td>2</td>\n",
       "      <td>2</td>\n",
       "      <td>39</td>\n",
       "      <td>Bali</td>\n",
       "    </tr>\n",
       "  </tbody>\n",
       "</table>\n",
       "</div>"
      ],
      "text/plain": [
       "  Destinations  Feedback  Star Rating  All-inclusive Most Visited City\n",
       "3       France         2            2             66             Paris\n",
       "9    Indonesia         2            2             39              Bali"
      ]
     },
     "execution_count": 29,
     "metadata": {},
     "output_type": "execute_result"
    }
   ],
   "source": [
    "#Task 8.Filter the data score below 2 ( I need to know if these destinations should be removed or there is a problem) \n",
    "score_filter = destinations[\"Feedback\"]<2\n",
    "below_2=destinations[score_filter]\n",
    "below_2.head()\n",
    "\n",
    "#there are no destinations with a feedback score of less than two. \n",
    "\n",
    "score_filter = destinations[\"Feedback\"]<=2\n",
    "below_equal_2=destinations[score_filter]\n",
    "below_equal_2.head()\n",
    "\n",
    "#two destiations have a score equal to 2. \n"
   ]
  },
  {
   "cell_type": "code",
   "execution_count": null,
   "metadata": {},
   "outputs": [],
   "source": [
    "%pip install matplotlib"
   ]
  },
  {
   "cell_type": "code",
   "execution_count": 64,
   "metadata": {},
   "outputs": [
    {
     "name": "stdout",
     "output_type": "stream",
     "text": [
      "there is no correlation\n"
     ]
    },
    {
     "data": {
      "image/png": "[encoded data removed]",
      "text/plain": [
       "<Figure size 432x288 with 1 Axes>"
      ]
     },
     "metadata": {
      "needs_background": "light"
     },
     "output_type": "display_data"
    }
   ],
   "source": [
    "#Extension task 1: Is there a correlation between all-inclusive and scores? \n",
    "destinations.plot.scatter(x = 'All-inclusive', y = 'Feedback')\n",
    "print(\"there is no correlation\")\n"
   ]
  },
  {
   "cell_type": "code",
   "execution_count": 63,
   "metadata": {},
   "outputs": [
    {
     "data": {
      "image/png": "[encoded data removed]",
      "text/plain": [
       "<Figure size 432x288 with 1 Axes>"
      ]
     },
     "metadata": {
      "needs_background": "light"
     },
     "output_type": "display_data"
    }
   ],
   "source": [
    "#Extension 2: Create a data visualisation diagram to show destination and highest scores\n",
    "destinations.plot(x = \"Destinations\", y = \"Feedback\")"
   ]
  },
  {
   "cell_type": "code",
   "execution_count": 75,
   "metadata": {},
   "outputs": [
    {
     "data": {
      "image/png": "[encoded data removed]",
      "text/plain": [
       "<Figure size 432x288 with 1 Axes>"
      ]
     },
     "metadata": {
      "needs_background": "light"
     },
     "output_type": "display_data"
    }
   ],
   "source": [
    "ax = destinations.plot.bar(x='Destinations', y='Feedback', rot=0)\n"
   ]
  },
  {
   "cell_type": "code",
   "execution_count": 76,
   "metadata": {},
   "outputs": [
    {
     "data": {
      "image/png": "[encoded data removed]",
      "text/plain": [
       "<Figure size 432x288 with 1 Axes>"
      ]
     },
     "metadata": {
      "needs_background": "light"
     },
     "output_type": "display_data"
    }
   ],
   "source": [
    "ax = destinations.plot.bar(x='Destinations', y='Feedback', rot=90)\n",
    "#90' rotation"
   ]
  },
  {
   "cell_type": "code",
   "execution_count": 77,
   "metadata": {},
   "outputs": [
    {
     "data": {
      "image/png": "[encoded data removed]",
      "text/plain": [
       "<Figure size 432x288 with 1 Axes>"
      ]
     },
     "metadata": {
      "needs_background": "light"
     },
     "output_type": "display_data"
    }
   ],
   "source": [
    "ax = destinations.plot.bar(x='Destinations', y='Feedback', rot=45)\n",
    "#45' rotation"
   ]
  },
  {
   "cell_type": "markdown",
   "metadata": {},
   "source": [
    "Questions: \n",
    "Task 4 & 5 - prints the score, but doesn't show the destination details. ... improve this?   \n",
    "Task 6 - this code give the boolean results. How to get it to show the actual data rows where it is True?   \n",
    "Extension Tasks - the graph labels don't show up in VS Code, but they do once uploaded to Git Hub. How to get them to show up?   \n",
    "What is Matplotlib and why do we need to use it? Do we need to import/call it as a library each time? \n",
    "(NOTE - to get markdown text on a new line, give 2+ spaces at the end of the line above)\n"
   ]
  },
  {
   "cell_type": "markdown",
   "metadata": {},
   "source": []
  }
 ],
 "metadata": {
  "interpreter": {
   "hash": "bf7ac6bae44105db42e94eb0f3da75baf3182ac1becc53bb4ba8c5f46f80b9b1"
  },
  "kernelspec": {
   "display_name": "Python 3.10.2 64-bit",
   "language": "python",
   "name": "python3"
  },
  "language_info": {
   "codemirror_mode": {
    "name": "ipython",
    "version": 3
   },
   "file_extension": ".py",
   "mimetype": "text/x-python",
   "name": "python",
   "nbconvert_exporter": "python",
   "pygments_lexer": "ipython3",
   "version": "3.10.2"
  },
  "orig_nbformat": 4
 },
 "nbformat": 4,
 "nbformat_minor": 2
}
