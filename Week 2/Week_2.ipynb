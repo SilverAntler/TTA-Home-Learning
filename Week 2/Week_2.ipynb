{
 "cells": [
  {
   "cell_type": "code",
   "execution_count": 104,
   "metadata": {},
   "outputs": [],
   "source": [
    "# As an extension to the motorbike task that costs £2000 and loses 10% of its value every year. Set up a function that performs the calculation by parsing in parameters. Then using a loop, print the value of the bike every following year until it falls below £1000.\n",
    "\n",
    "#starting value of bike is 2000\n",
    "#depreciation is *0.9\n",
    "#stop value is 1000\n",
    "#loop - while the value is >=1000, calculate the new value of i\n",
    "#A set up function that parses in the parameters\n",
    "#B set up loop to print the value of the bike. "
   ]
  },
  {
   "cell_type": "code",
   "execution_count": null,
   "metadata": {},
   "outputs": [],
   "source": [
    "#Test task 2 - run with simple numbers\n",
    "def function_4 (cost):\n",
    "    return cost -1\n",
    "\n",
    "price = 10\n",
    "while price > 0:\n",
    "    price = function_4(price)\n",
    "    print(price)\n"
   ]
  },
  {
   "cell_type": "code",
   "execution_count": 1,
   "metadata": {},
   "outputs": [
    {
     "name": "stdout",
     "output_type": "stream",
     "text": [
      "The value of the bike is 1800.0\n",
      "The value of the bike is 1620.0\n",
      "The value of the bike is 1458.0\n",
      "The value of the bike is 1312.2\n",
      "The value of the bike is 1180.98\n",
      "The value of the bike is 1062.88\n"
     ]
    }
   ],
   "source": [
    "#TASK 2\n",
    "def function_5 (cost):\n",
    "    return cost*0.9\n",
    "\n",
    "\n",
    "price=2000\n",
    "while price >1000:\n",
    "    price=function_5(price)\n",
    "    if price <=1000:\n",
    "        break\n",
    "    print(\"The value of the bike is\", round(price,2))\n",
    "\n"
   ]
  },
  {
   "cell_type": "code",
   "execution_count": 133,
   "metadata": {},
   "outputs": [
    {
     "name": "stdout",
     "output_type": "stream",
     "text": [
      "hello harry, you picked 4 and 5\n",
      "20\n"
     ]
    }
   ],
   "source": [
    "#TASK 3 - version 1, with multiple procedures\n",
    "user_input_name = input(\"what is your name?\")\n",
    "\n",
    "user_input_n1 = int(input (\"please pick your first number\"))\n",
    "user_input_n2 = int(input (\"please pick your second number\"))\n",
    "print (\"hello\", user_input_name +\",\", \"you picked\", user_input_n1, \"and\", user_input_n2)\n",
    "user_input_calc = input(\"Enter 'A' if you want to add the numbers, 'B' if you want to subtract the numbers. Enter 'C' if you want to multiply, 'D' if you want to divide, or 'E' if you are feeling bold and want them exponential.\")\n",
    "\n",
    "def procedure_1 ():\n",
    "    output = user_input_n1+user_input_n2\n",
    "    print (output)\n",
    "\n",
    "def procedure_2 ():\n",
    "    output = user_input_n1-user_input_n2\n",
    "    print (output)\n",
    "\n",
    "def procedure_3 ():\n",
    "    output = user_input_n1*user_input_n2\n",
    "    print (output)\n",
    "\n",
    "def procedure_4 ():\n",
    "    output = user_input_n1/user_input_n2\n",
    "    print (output)\n",
    "\n",
    "def procedure_5 ():\n",
    "    output = user_input_n1**user_input_n2\n",
    "    print (output)\n",
    "\n",
    "if user_input_calc == \"A\":\n",
    "    procedure_1 ()\n",
    "elif user_input_calc == \"B\":\n",
    "    procedure_2 ()\n",
    "elif user_input_calc == \"C\":\n",
    "    procedure_3 ()\n",
    "elif user_input_calc == \"D\":\n",
    "    procedure_4 ()\n",
    "elif user_input_calc == \"E\":\n",
    "    procedure_5 ()\n",
    "else : \n",
    "    print(\"You didn't select a correct option.\")\n"
   ]
  },
  {
   "cell_type": "code",
   "execution_count": 9,
   "metadata": {},
   "outputs": [
    {
     "name": "stdout",
     "output_type": "stream",
     "text": [
      "hello Harry, you picked 4 and 5\n",
      "20\n"
     ]
    }
   ],
   "source": [
    "#TASK 3, version two, with one procedure.\n",
    "def procedure_6 ():\n",
    "    user_input_calc = input(\"Enter 'A' if you want to add the numbers, 'B' if you want to subtract the numbers. Enter 'C' if you want to multiply, 'D' if you want to divide, or 'E' if you are feeling bold and want them exponential.\")\n",
    "    if user_input_calc == \"A\":\n",
    "        output = user_input_n1+user_input_n2\n",
    "        print (output)\n",
    "    elif user_input_calc == \"B\":\n",
    "        output = user_input_n1-user_input_n2\n",
    "        print (output)\n",
    "    elif user_input_calc == \"C\":\n",
    "        output = user_input_n1*user_input_n2\n",
    "        print (output)\n",
    "    elif user_input_calc == \"D\":\n",
    "        output = user_input_n1/user_input_n2\n",
    "        print (output)\n",
    "    elif user_input_calc == \"E\":\n",
    "        output = user_input_n1**user_input_n2\n",
    "        print (output)\n",
    "    else : \n",
    "        print(\"You didn't select a correct option.\")\n",
    "\n",
    "user_input_name = input(\"what is your name?\")\n",
    "user_input_n1 = int(input (\"please pick your first number\"))\n",
    "user_input_n2 = int(input (\"please pick your second number\"))\n",
    "print (\"hello\", user_input_name +\",\", \"you picked\", user_input_n1, \"and\", user_input_n2)\n",
    "procedure_6()\n"
   ]
  }
 ],
 "metadata": {
  "interpreter": {
   "hash": "bf7ac6bae44105db42e94eb0f3da75baf3182ac1becc53bb4ba8c5f46f80b9b1"
  },
  "kernelspec": {
   "display_name": "Python 3.10.2 64-bit",
   "language": "python",
   "name": "python3"
  },
  "language_info": {
   "codemirror_mode": {
    "name": "ipython",
    "version": 3
   },
   "file_extension": ".py",
   "mimetype": "text/x-python",
   "name": "python",
   "nbconvert_exporter": "python",
   "pygments_lexer": "ipython3",
   "version": "3.10.2"
  },
  "orig_nbformat": 4
 },
 "nbformat": 4,
 "nbformat_minor": 2
}
