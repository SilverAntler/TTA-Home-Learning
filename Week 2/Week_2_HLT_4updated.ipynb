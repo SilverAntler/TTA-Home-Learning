{
 "cells": [
  {
   "cell_type": "code",
   "execution_count": null,
   "metadata": {},
   "outputs": [],
   "source": [
    "#Python lesson 3, HLT 1\n",
    "#Write a program that allows you to enter 4 numbers and \n",
    "# stores them in a file called “Numbers”•3•45•83•21\n",
    "# Have a go at ‘w’ ‘r’  ‘a’\n"
   ]
  },
  {
   "cell_type": "code",
   "execution_count": 12,
   "metadata": {},
   "outputs": [
    {
     "name": "stdout",
     "output_type": "stream",
     "text": [
      "[3, 45, 83, 21]\n"
     ]
    }
   ],
   "source": [
    "\n",
    "HLT_3_text_file = open(\"HLT_3_text_file\", \"w\")\n",
    "my_list = [3, 45, 83, 21]\n",
    "print (my_list)\n",
    "\n",
    "Numbers = open(\"Numbers\", \"w\")\n",
    "Numbers.write(\"3, 45, 83, 21\")\n",
    "Numbers.write(\"\\n\")\n",
    "\n",
    "Numbers.close()\n",
    "\n",
    "#this has written them, but they're written as a string, not integers. "
   ]
  },
  {
   "cell_type": "code",
   "execution_count": 17,
   "metadata": {},
   "outputs": [
    {
     "name": "stdout",
     "output_type": "stream",
     "text": [
      "3, 45, 83, 21,adding another line of textadding another line of text\n"
     ]
    }
   ],
   "source": [
    "# Reading\n",
    "with open(\"Numbers\", \"r\") as myfile:\n",
    "    data = myfile.read().replace('\\n', ',')\n",
    "\n",
    "myfile.close()\n",
    "\n",
    "print(data)"
   ]
  },
  {
   "cell_type": "code",
   "execution_count": 27,
   "metadata": {},
   "outputs": [
    {
     "name": "stdout",
     "output_type": "stream",
     "text": [
      "3, 45, 83, 21adding another line of text,\n",
      "3, 45, 83, 21adding another line of text,\n"
     ]
    }
   ],
   "source": [
    "Numbers3 = open(\"Numbers3\", \"w\")\n",
    "Numbers3.write(\"3, 45, 83, 21\\n\")\n",
    "\n",
    "# Reading\n",
    "with open(\"Numbers3\", \"r\") as myfile:\n",
    "    data = myfile.read().replace('\\n', ',')\n",
    "\n",
    "myfile.close()\n",
    "\n",
    "print(data)\n",
    "\n",
    "Number3 = open(\"Numbers3\", \"a\")\n",
    "Numbers3.write (\"adding another line of text\")\n",
    "myfile.close()\n",
    "\n",
    "print(data)\n",
    "\n",
    "#can't figure out the \\n as a new line aspect. "
   ]
  },
  {
   "cell_type": "code",
   "execution_count": 84,
   "metadata": {},
   "outputs": [
    {
     "name": "stdout",
     "output_type": "stream",
     "text": [
      "Your grade is A\n"
     ]
    }
   ],
   "source": [
    "#Task 2 - ask student for their mark, convert to a grade. \n",
    "mark = int(input(\"what is your mark out of 100?\"))\n",
    "#i = student mark\n",
    "def function_mark_grade (i):\n",
    "\n",
    "    if i >= 70:\n",
    "        grade = \"A\"\n",
    "\n",
    "    elif i >= 60:\n",
    "        grade = \"B\"\n",
    "\n",
    "    elif i >= 50:\n",
    "        grade = \"C\"\n",
    "\n",
    "    elif i >= 40:\n",
    "        grade = \"D\"\n",
    "\n",
    "    else:\n",
    "        grade = \"F\"\n",
    "   \n",
    "    print (\"Your grade is\", grade)\n",
    "    \n",
    "function_mark_grade(mark)\n",
    "\n",
    "# ? does this function need to have return at the end? Is it a process rather than a function in its current format?\n",
    "\n"
   ]
  },
  {
   "cell_type": "code",
   "execution_count": 118,
   "metadata": {},
   "outputs": [
    {
     "name": "stdout",
     "output_type": "stream",
     "text": [
      "Your exam grade is A your mark is 100\n"
     ]
    },
    {
     "ename": "TypeError",
     "evalue": "'>=' not supported between instances of 'str' and 'int'",
     "output_type": "error",
     "traceback": [
      "\u001b[1;31m---------------------------------------------------------------------------\u001b[0m",
      "\u001b[1;31mTypeError\u001b[0m                                 Traceback (most recent call last)",
      "Input \u001b[1;32mIn [118]\u001b[0m, in \u001b[0;36m<module>\u001b[1;34m\u001b[0m\n\u001b[0;32m     62\u001b[0m         \u001b[38;5;28mprint\u001b[39m (\u001b[38;5;124m\"\u001b[39m\u001b[38;5;124mYou didn\u001b[39m\u001b[38;5;124m'\u001b[39m\u001b[38;5;124mt get what you\u001b[39m\u001b[38;5;124m'\u001b[39m\u001b[38;5;124md hoped for this time\u001b[39m\u001b[38;5;124m\"\u001b[39m)\n\u001b[0;32m     63\u001b[0m     \u001b[38;5;28;01mreturn\u001b[39;00m(target_score)\n\u001b[1;32m---> 66\u001b[0m \u001b[43mfunction_compare_grades\u001b[49m\u001b[43m(\u001b[49m\u001b[43mgrade\u001b[49m\u001b[43m)\u001b[49m\n",
      "Input \u001b[1;32mIn [118]\u001b[0m, in \u001b[0;36mfunction_compare_grades\u001b[1;34m(grade)\u001b[0m\n\u001b[0;32m     57\u001b[0m \u001b[38;5;28;01mif\u001b[39;00m grade \u001b[38;5;241m==\u001b[39m target_grade:\n\u001b[0;32m     58\u001b[0m     \u001b[38;5;28mprint\u001b[39m(\u001b[38;5;124m\"\u001b[39m\u001b[38;5;124mCongratulations! You got it spot on\u001b[39m\u001b[38;5;124m\"\u001b[39m)\n\u001b[1;32m---> 59\u001b[0m \u001b[38;5;28;01melif\u001b[39;00m \u001b[43mtarget_grade\u001b[49m\u001b[43m \u001b[49m\u001b[38;5;241;43m>\u001b[39;49m\u001b[38;5;241;43m=\u001b[39;49m\u001b[43mtarget_score\u001b[49m:\n\u001b[0;32m     60\u001b[0m     \u001b[38;5;28mprint\u001b[39m (\u001b[38;5;124m\"\u001b[39m\u001b[38;5;124mFantastic, you did better than expected\u001b[39m\u001b[38;5;124m\"\u001b[39m)\n\u001b[0;32m     61\u001b[0m \u001b[38;5;28;01melse\u001b[39;00m: \n",
      "\u001b[1;31mTypeError\u001b[0m: '>=' not supported between instances of 'str' and 'int'"
     ]
    }
   ],
   "source": [
    "#Extension to Task 2 [THIS ONE DOESN'T WORK!]\n",
    "#Ask for target grade and compare with grade. Display a suitable message. \n",
    "\n",
    "# obtain target grade (string), convert to mark (int), compare with actual mark? No, because we're comparing grades. \n",
    "mark = int(input(\"what is your mark out of 100?\"))\n",
    "#i = exam mark\n",
    "\n",
    "def function_mark_grade (i):\n",
    "\n",
    "    if i >= 70:\n",
    "        grade = \"A\"\n",
    "    elif i >= 60:\n",
    "        grade = \"B\"\n",
    "    elif i >= 50:\n",
    "        grade = \"C\"\n",
    "    elif i >= 40:\n",
    "        grade = \"D\"\n",
    "    else:\n",
    "        grade = \"F\"\n",
    "    print (\"Your exam grade is\", grade, \"your mark is\", mark)\n",
    "    return grade\n",
    "    \n",
    "\n",
    "\n",
    "grade = function_mark_grade(mark) # this identifies the grade from the mark\n",
    "\n",
    "\n",
    "\n",
    "\n",
    "target_grade = str(input(\"what was your target grade?\"))\n",
    "\n",
    "def function_compare_grades (grade):\n",
    "    \n",
    "    if grade == \"A\":\n",
    "        score = 5\n",
    "    elif grade == \"B\":\n",
    "        score = 4\n",
    "    elif grade == \"C\":\n",
    "        score = 3\n",
    "    elif grade == \"D\":\n",
    "        score = 2\n",
    "    else: \n",
    "        score = 1\n",
    "\n",
    "    if target_grade == \"A\":\n",
    "        target_score = 5\n",
    "    elif target_grade == \"B\":\n",
    "        target_score = 4\n",
    "    elif target_grade == \"C\":\n",
    "        target_score = 3\n",
    "    elif target_grade == \"D\":\n",
    "        target_score = 2\n",
    "    else: \n",
    "        target_score = 1\n",
    " \n",
    "\n",
    "    if grade == target_grade:\n",
    "        print(\"Congratulations! You got it spot on\")\n",
    "    elif target_grade >=target_score:\n",
    "        print (\"Fantastic, you did better than expected\")\n",
    "    else: \n",
    "        print (\"You didn't get what you'd hoped for this time\")\n",
    "    return(target_score)\n",
    "\n",
    "\n",
    "function_compare_grades(grade) #this matches actual & target. \n",
    "\n",
    "\n",
    "\n",
    "\n",
    "\n"
   ]
  },
  {
   "cell_type": "code",
   "execution_count": 104,
   "metadata": {},
   "outputs": [
    {
     "data": {
      "text/plain": [
       "'D'"
      ]
     },
     "execution_count": 104,
     "metadata": {},
     "output_type": "execute_result"
    }
   ],
   "source": [
    "    grade_list_2d = [[\"A\", \"B\", \"C\", \"D\", \"F\"],\n",
    "                    [5, 4, 3, 2, 1]]\n",
    "\n",
    "grade_list_2d [0][3]"
   ]
  },
  {
   "cell_type": "code",
   "execution_count": 128,
   "metadata": {},
   "outputs": [
    {
     "name": "stdout",
     "output_type": "stream",
     "text": [
      "Your exam grade is A your mark is 70\n",
      "0\n",
      "2\n",
      "Wow! You did better than expected\n"
     ]
    }
   ],
   "source": [
    "mark = int(input(\"what is your mark out of 100?\"))\n",
    "\n",
    "grade = function_mark_grade(mark) # this identifies the grade from the mark\n",
    "\n",
    "awesome_target = str(input(\"what was your target grade?\"))\n",
    "\n",
    "\n",
    "\n",
    "def function_target_grade_met (grade, target):\n",
    "\n",
    "    grades_letters = [\"A\", \"B\", \"C\", \"D\", \"E\"]\n",
    "\n",
    "    new_grade = grades_letters.index(grade)\n",
    "    # print(new_grade)\n",
    "    new_target = grades_letters.index(target)\n",
    "    # print(new_target)\n",
    "    \n",
    "    if new_grade == new_target:\n",
    "        print(\"Congratulations! You got it spot on\")\n",
    "    elif new_target < new_grade:\n",
    "        print (\"Sorry, you need to study more\")\n",
    "    else: \n",
    "        print (\"Wow! You did better than expected\")\n",
    "\n",
    "function_target_grade_met(grade,awesome_target)\n"
   ]
  }
 ],
 "metadata": {
  "interpreter": {
   "hash": "bf7ac6bae44105db42e94eb0f3da75baf3182ac1becc53bb4ba8c5f46f80b9b1"
  },
  "kernelspec": {
   "display_name": "Python 3.10.2 64-bit",
   "language": "python",
   "name": "python3"
  },
  "language_info": {
   "codemirror_mode": {
    "name": "ipython",
    "version": 3
   },
   "file_extension": ".py",
   "mimetype": "text/x-python",
   "name": "python",
   "nbconvert_exporter": "python",
   "pygments_lexer": "ipython3",
   "version": "3.10.2"
  },
  "orig_nbformat": 4
 },
 "nbformat": 4,
 "nbformat_minor": 2
}
